{
 "cells": [
  {
   "cell_type": "markdown",
   "metadata": {},
   "source": [
    "### Import all what we need"
   ]
  },
  {
   "cell_type": "code",
   "execution_count": 2,
   "metadata": {},
   "outputs": [],
   "source": [
    "import os\n",
    "import sys \n",
    "import bz2\n",
    "import json\n",
    "import requests\n",
    "from tqdm import tqdm_notebook as tqdm"
   ]
  },
  {
   "cell_type": "markdown",
   "metadata": {},
   "source": [
    "## Get Download Links\n",
    "\n",
    "Download files of <font color=\"skyblue\"> Molecule $C_2H_2$ </font>."
   ]
  },
  {
   "cell_type": "code",
   "execution_count": 2,
   "metadata": {},
   "outputs": [
    {
     "name": "stdout",
     "output_type": "stream",
     "text": [
      "Iso-slugs:  dict_keys(['(12C)2(1H)2', '(12C)(13C)(1H)2', '(12C)2(1H)(2H)'])\n"
     ]
    }
   ],
   "source": [
    "molecule = 'C2H2'\n",
    "api_url = 'http://exomol.com/api/?molecule=C2H2&datatype=linelist'\n",
    "response = requests.get(api_url)\n",
    "content = response.text  \n",
    "json_dict = json.loads(content)\n",
    "\n",
    "print('Iso-slugs: ', json_dict.keys())\n"
   ]
  },
  {
   "cell_type": "code",
   "execution_count": 3,
   "metadata": {},
   "outputs": [
    {
     "name": "stdout",
     "output_type": "stream",
     "text": [
      "Isotopologues for each IsoFormula:\n",
      "\n",
      "IsoFormula: (12C)2(1H)(2H)       Isotopologue dataset names:  dict_keys(['data type']) \n",
      "\n",
      "IsoFormula: (12C)(13C)(1H)2      Isotopologue dataset names:  dict_keys(['data type']) \n",
      "\n",
      "IsoFormula: (12C)2(1H)2          Isotopologue dataset names:  dict_keys(['data type', 'aCeTY']) \n",
      "\n"
     ]
    }
   ],
   "source": [
    "print('Isotopologues for each IsoFormula:\\n')\n",
    "print('IsoFormula: (12C)2(1H)(2H)       Isotopologue dataset names: ', json_dict['(12C)2(1H)(2H)']['linelist'].keys(), '\\n')\n",
    "print('IsoFormula: (12C)(13C)(1H)2      Isotopologue dataset names: ', json_dict['(12C)(13C)(1H)2']['linelist'].keys(), '\\n')\n",
    "print('IsoFormula: (12C)2(1H)2          Isotopologue dataset names: ', json_dict['(12C)2(1H)2']['linelist'].keys(), '\\n')"
   ]
  },
  {
   "cell_type": "markdown",
   "metadata": {},
   "source": [
    "Here we test our code with <font color=\"green\"> Iso-slug 12C2-1H2 </font> and <font color=\"orange\"> Isotopologue dataset name aCeTY </font>.\n",
    "\n",
    "http://exomol.com/db/C2H2/12C2-1H2/aCeTY/12C2-1H2__aCeTY.def"
   ]
  },
  {
   "cell_type": "code",
   "execution_count": 4,
   "metadata": {},
   "outputs": [],
   "source": [
    "iso = [('(12C)2(1H)2', 'aCeTY')]"
   ]
  },
  {
   "cell_type": "markdown",
   "metadata": {},
   "source": [
    "Get the download links of states.bz2 files and trans.bz2 files from webset."
   ]
  },
  {
   "cell_type": "code",
   "execution_count": 5,
   "metadata": {},
   "outputs": [],
   "source": [
    "def get_target_url():\n",
    "    \"\"\"\n",
    "    Get the download url from api.\n",
    "    \n",
    "    \"\"\"\n",
    "    \n",
    "    response = requests.get(api_url)\n",
    "    \n",
    "    if(response.status_code != 200):\n",
    "        print('ExoMol API Error' + str(response.status_code))\n",
    "        \n",
    "    # If the obtained status code is 200, it is correct.\n",
    "    else:\n",
    "        content = response.text            # Get the relevant content.\n",
    "        json_dict = json.loads(content)    # Convert json into dictionary.\n",
    "        \n",
    "        file_url = []\n",
    "        for i in range(len(iso)):\n",
    "            # Extract files information from dictionary and convert them into list\n",
    "            iso_slug = iso[i][0]\n",
    "            isotopologue = iso[i][1]\n",
    "            json_list = json_dict[iso_slug]['linelist'][isotopologue]['files']\n",
    "            print('The number of downloading files: ', len(json_list))\n",
    "            print(\"Download links:\")\n",
    "\n",
    "            for j in range(len(json_list)):\n",
    "                link = json_list[j].get('url')\n",
    "                try:\n",
    "                    if((link.endswith('states.bz2') or link.endswith('trans.bz2'))):\n",
    "                    #if((link.endswith('states.bz2'))):\n",
    "                        file_url.append(\"http://www.\" + link)\n",
    "                except KeyError:\n",
    "                    print('Keyerror, keep going!')\n",
    "                        \n",
    "        for k in file_url:\n",
    "            print(k)\n",
    "            \n",
    "        return file_url\n"
   ]
  },
  {
   "cell_type": "code",
   "execution_count": 6,
   "metadata": {},
   "outputs": [
    {
     "name": "stdout",
     "output_type": "stream",
     "text": [
      "The number of downloading files:  101\n",
      "Download links:\n",
      "http://www.exomol.com/db/C2H2/12C2-1H2/aCeTY/12C2-1H2__aCeTY.states.bz2\n",
      "http://www.exomol.com/db/C2H2/12C2-1H2/aCeTY/12C2-1H2__aCeTY__00000-00100.trans.bz2\n",
      "http://www.exomol.com/db/C2H2/12C2-1H2/aCeTY/12C2-1H2__aCeTY__00100-00200.trans.bz2\n",
      "http://www.exomol.com/db/C2H2/12C2-1H2/aCeTY/12C2-1H2__aCeTY__00200-00300.trans.bz2\n",
      "http://www.exomol.com/db/C2H2/12C2-1H2/aCeTY/12C2-1H2__aCeTY__00300-00400.trans.bz2\n",
      "http://www.exomol.com/db/C2H2/12C2-1H2/aCeTY/12C2-1H2__aCeTY__00400-00500.trans.bz2\n",
      "http://www.exomol.com/db/C2H2/12C2-1H2/aCeTY/12C2-1H2__aCeTY__00500-00600.trans.bz2\n",
      "http://www.exomol.com/db/C2H2/12C2-1H2/aCeTY/12C2-1H2__aCeTY__00600-00700.trans.bz2\n",
      "http://www.exomol.com/db/C2H2/12C2-1H2/aCeTY/12C2-1H2__aCeTY__00700-00800.trans.bz2\n",
      "http://www.exomol.com/db/C2H2/12C2-1H2/aCeTY/12C2-1H2__aCeTY__00800-00900.trans.bz2\n",
      "http://www.exomol.com/db/C2H2/12C2-1H2/aCeTY/12C2-1H2__aCeTY__00900-01000.trans.bz2\n",
      "http://www.exomol.com/db/C2H2/12C2-1H2/aCeTY/12C2-1H2__aCeTY__01000-01100.trans.bz2\n",
      "http://www.exomol.com/db/C2H2/12C2-1H2/aCeTY/12C2-1H2__aCeTY__01100-01200.trans.bz2\n",
      "http://www.exomol.com/db/C2H2/12C2-1H2/aCeTY/12C2-1H2__aCeTY__01200-01300.trans.bz2\n",
      "http://www.exomol.com/db/C2H2/12C2-1H2/aCeTY/12C2-1H2__aCeTY__01300-01400.trans.bz2\n",
      "http://www.exomol.com/db/C2H2/12C2-1H2/aCeTY/12C2-1H2__aCeTY__01400-01500.trans.bz2\n",
      "http://www.exomol.com/db/C2H2/12C2-1H2/aCeTY/12C2-1H2__aCeTY__01500-01600.trans.bz2\n",
      "http://www.exomol.com/db/C2H2/12C2-1H2/aCeTY/12C2-1H2__aCeTY__01600-01700.trans.bz2\n",
      "http://www.exomol.com/db/C2H2/12C2-1H2/aCeTY/12C2-1H2__aCeTY__01700-01800.trans.bz2\n",
      "http://www.exomol.com/db/C2H2/12C2-1H2/aCeTY/12C2-1H2__aCeTY__01800-01900.trans.bz2\n",
      "http://www.exomol.com/db/C2H2/12C2-1H2/aCeTY/12C2-1H2__aCeTY__01900-02000.trans.bz2\n",
      "http://www.exomol.com/db/C2H2/12C2-1H2/aCeTY/12C2-1H2__aCeTY__02000-02100.trans.bz2\n",
      "http://www.exomol.com/db/C2H2/12C2-1H2/aCeTY/12C2-1H2__aCeTY__02100-02200.trans.bz2\n",
      "http://www.exomol.com/db/C2H2/12C2-1H2/aCeTY/12C2-1H2__aCeTY__02200-02300.trans.bz2\n",
      "http://www.exomol.com/db/C2H2/12C2-1H2/aCeTY/12C2-1H2__aCeTY__02300-02400.trans.bz2\n",
      "http://www.exomol.com/db/C2H2/12C2-1H2/aCeTY/12C2-1H2__aCeTY__02400-02500.trans.bz2\n",
      "http://www.exomol.com/db/C2H2/12C2-1H2/aCeTY/12C2-1H2__aCeTY__02500-02600.trans.bz2\n",
      "http://www.exomol.com/db/C2H2/12C2-1H2/aCeTY/12C2-1H2__aCeTY__02600-02700.trans.bz2\n",
      "http://www.exomol.com/db/C2H2/12C2-1H2/aCeTY/12C2-1H2__aCeTY__02700-02800.trans.bz2\n",
      "http://www.exomol.com/db/C2H2/12C2-1H2/aCeTY/12C2-1H2__aCeTY__02800-02900.trans.bz2\n",
      "http://www.exomol.com/db/C2H2/12C2-1H2/aCeTY/12C2-1H2__aCeTY__02900-03000.trans.bz2\n",
      "http://www.exomol.com/db/C2H2/12C2-1H2/aCeTY/12C2-1H2__aCeTY__03000-03100.trans.bz2\n",
      "http://www.exomol.com/db/C2H2/12C2-1H2/aCeTY/12C2-1H2__aCeTY__03100-03200.trans.bz2\n",
      "http://www.exomol.com/db/C2H2/12C2-1H2/aCeTY/12C2-1H2__aCeTY__03200-03300.trans.bz2\n",
      "http://www.exomol.com/db/C2H2/12C2-1H2/aCeTY/12C2-1H2__aCeTY__03300-03400.trans.bz2\n",
      "http://www.exomol.com/db/C2H2/12C2-1H2/aCeTY/12C2-1H2__aCeTY__03400-03500.trans.bz2\n",
      "http://www.exomol.com/db/C2H2/12C2-1H2/aCeTY/12C2-1H2__aCeTY__03500-03600.trans.bz2\n",
      "http://www.exomol.com/db/C2H2/12C2-1H2/aCeTY/12C2-1H2__aCeTY__03600-03700.trans.bz2\n",
      "http://www.exomol.com/db/C2H2/12C2-1H2/aCeTY/12C2-1H2__aCeTY__03700-03800.trans.bz2\n",
      "http://www.exomol.com/db/C2H2/12C2-1H2/aCeTY/12C2-1H2__aCeTY__03800-03900.trans.bz2\n",
      "http://www.exomol.com/db/C2H2/12C2-1H2/aCeTY/12C2-1H2__aCeTY__03900-04000.trans.bz2\n",
      "http://www.exomol.com/db/C2H2/12C2-1H2/aCeTY/12C2-1H2__aCeTY__04000-04100.trans.bz2\n",
      "http://www.exomol.com/db/C2H2/12C2-1H2/aCeTY/12C2-1H2__aCeTY__04100-04200.trans.bz2\n",
      "http://www.exomol.com/db/C2H2/12C2-1H2/aCeTY/12C2-1H2__aCeTY__04200-04300.trans.bz2\n",
      "http://www.exomol.com/db/C2H2/12C2-1H2/aCeTY/12C2-1H2__aCeTY__04300-04400.trans.bz2\n",
      "http://www.exomol.com/db/C2H2/12C2-1H2/aCeTY/12C2-1H2__aCeTY__04400-04500.trans.bz2\n",
      "http://www.exomol.com/db/C2H2/12C2-1H2/aCeTY/12C2-1H2__aCeTY__04500-04600.trans.bz2\n",
      "http://www.exomol.com/db/C2H2/12C2-1H2/aCeTY/12C2-1H2__aCeTY__04600-04700.trans.bz2\n",
      "http://www.exomol.com/db/C2H2/12C2-1H2/aCeTY/12C2-1H2__aCeTY__04700-04800.trans.bz2\n",
      "http://www.exomol.com/db/C2H2/12C2-1H2/aCeTY/12C2-1H2__aCeTY__04800-04900.trans.bz2\n",
      "http://www.exomol.com/db/C2H2/12C2-1H2/aCeTY/12C2-1H2__aCeTY__04900-05000.trans.bz2\n",
      "http://www.exomol.com/db/C2H2/12C2-1H2/aCeTY/12C2-1H2__aCeTY__05000-05100.trans.bz2\n",
      "http://www.exomol.com/db/C2H2/12C2-1H2/aCeTY/12C2-1H2__aCeTY__05100-05200.trans.bz2\n",
      "http://www.exomol.com/db/C2H2/12C2-1H2/aCeTY/12C2-1H2__aCeTY__05200-05300.trans.bz2\n",
      "http://www.exomol.com/db/C2H2/12C2-1H2/aCeTY/12C2-1H2__aCeTY__05300-05400.trans.bz2\n",
      "http://www.exomol.com/db/C2H2/12C2-1H2/aCeTY/12C2-1H2__aCeTY__05400-05500.trans.bz2\n",
      "http://www.exomol.com/db/C2H2/12C2-1H2/aCeTY/12C2-1H2__aCeTY__05500-05600.trans.bz2\n",
      "http://www.exomol.com/db/C2H2/12C2-1H2/aCeTY/12C2-1H2__aCeTY__05600-05700.trans.bz2\n",
      "http://www.exomol.com/db/C2H2/12C2-1H2/aCeTY/12C2-1H2__aCeTY__05700-05800.trans.bz2\n",
      "http://www.exomol.com/db/C2H2/12C2-1H2/aCeTY/12C2-1H2__aCeTY__05800-05900.trans.bz2\n",
      "http://www.exomol.com/db/C2H2/12C2-1H2/aCeTY/12C2-1H2__aCeTY__05900-06000.trans.bz2\n",
      "http://www.exomol.com/db/C2H2/12C2-1H2/aCeTY/12C2-1H2__aCeTY__06000-06100.trans.bz2\n",
      "http://www.exomol.com/db/C2H2/12C2-1H2/aCeTY/12C2-1H2__aCeTY__06100-06200.trans.bz2\n",
      "http://www.exomol.com/db/C2H2/12C2-1H2/aCeTY/12C2-1H2__aCeTY__06200-06300.trans.bz2\n",
      "http://www.exomol.com/db/C2H2/12C2-1H2/aCeTY/12C2-1H2__aCeTY__06300-06400.trans.bz2\n",
      "http://www.exomol.com/db/C2H2/12C2-1H2/aCeTY/12C2-1H2__aCeTY__06400-06500.trans.bz2\n",
      "http://www.exomol.com/db/C2H2/12C2-1H2/aCeTY/12C2-1H2__aCeTY__06500-06600.trans.bz2\n",
      "http://www.exomol.com/db/C2H2/12C2-1H2/aCeTY/12C2-1H2__aCeTY__06600-06700.trans.bz2\n",
      "http://www.exomol.com/db/C2H2/12C2-1H2/aCeTY/12C2-1H2__aCeTY__06700-06800.trans.bz2\n",
      "http://www.exomol.com/db/C2H2/12C2-1H2/aCeTY/12C2-1H2__aCeTY__06800-06900.trans.bz2\n",
      "http://www.exomol.com/db/C2H2/12C2-1H2/aCeTY/12C2-1H2__aCeTY__06900-07000.trans.bz2\n",
      "http://www.exomol.com/db/C2H2/12C2-1H2/aCeTY/12C2-1H2__aCeTY__07000-07100.trans.bz2\n",
      "http://www.exomol.com/db/C2H2/12C2-1H2/aCeTY/12C2-1H2__aCeTY__07100-07200.trans.bz2\n",
      "http://www.exomol.com/db/C2H2/12C2-1H2/aCeTY/12C2-1H2__aCeTY__07200-07300.trans.bz2\n",
      "http://www.exomol.com/db/C2H2/12C2-1H2/aCeTY/12C2-1H2__aCeTY__07300-07400.trans.bz2\n",
      "http://www.exomol.com/db/C2H2/12C2-1H2/aCeTY/12C2-1H2__aCeTY__07400-07500.trans.bz2\n",
      "http://www.exomol.com/db/C2H2/12C2-1H2/aCeTY/12C2-1H2__aCeTY__07500-07600.trans.bz2\n",
      "http://www.exomol.com/db/C2H2/12C2-1H2/aCeTY/12C2-1H2__aCeTY__07600-07700.trans.bz2\n",
      "http://www.exomol.com/db/C2H2/12C2-1H2/aCeTY/12C2-1H2__aCeTY__07700-07800.trans.bz2\n",
      "http://www.exomol.com/db/C2H2/12C2-1H2/aCeTY/12C2-1H2__aCeTY__07800-07900.trans.bz2\n",
      "http://www.exomol.com/db/C2H2/12C2-1H2/aCeTY/12C2-1H2__aCeTY__07900-08000.trans.bz2\n",
      "http://www.exomol.com/db/C2H2/12C2-1H2/aCeTY/12C2-1H2__aCeTY__08000-08100.trans.bz2\n",
      "http://www.exomol.com/db/C2H2/12C2-1H2/aCeTY/12C2-1H2__aCeTY__08100-08200.trans.bz2\n",
      "http://www.exomol.com/db/C2H2/12C2-1H2/aCeTY/12C2-1H2__aCeTY__08200-08300.trans.bz2\n",
      "http://www.exomol.com/db/C2H2/12C2-1H2/aCeTY/12C2-1H2__aCeTY__08300-08400.trans.bz2\n",
      "http://www.exomol.com/db/C2H2/12C2-1H2/aCeTY/12C2-1H2__aCeTY__08400-08500.trans.bz2\n",
      "http://www.exomol.com/db/C2H2/12C2-1H2/aCeTY/12C2-1H2__aCeTY__08500-08600.trans.bz2\n",
      "http://www.exomol.com/db/C2H2/12C2-1H2/aCeTY/12C2-1H2__aCeTY__08600-08700.trans.bz2\n",
      "http://www.exomol.com/db/C2H2/12C2-1H2/aCeTY/12C2-1H2__aCeTY__08700-08800.trans.bz2\n",
      "http://www.exomol.com/db/C2H2/12C2-1H2/aCeTY/12C2-1H2__aCeTY__08800-08900.trans.bz2\n",
      "http://www.exomol.com/db/C2H2/12C2-1H2/aCeTY/12C2-1H2__aCeTY__08900-09000.trans.bz2\n",
      "http://www.exomol.com/db/C2H2/12C2-1H2/aCeTY/12C2-1H2__aCeTY__09000-09100.trans.bz2\n",
      "http://www.exomol.com/db/C2H2/12C2-1H2/aCeTY/12C2-1H2__aCeTY__09100-09200.trans.bz2\n",
      "http://www.exomol.com/db/C2H2/12C2-1H2/aCeTY/12C2-1H2__aCeTY__09200-09300.trans.bz2\n",
      "http://www.exomol.com/db/C2H2/12C2-1H2/aCeTY/12C2-1H2__aCeTY__09300-09400.trans.bz2\n",
      "http://www.exomol.com/db/C2H2/12C2-1H2/aCeTY/12C2-1H2__aCeTY__09400-09500.trans.bz2\n",
      "http://www.exomol.com/db/C2H2/12C2-1H2/aCeTY/12C2-1H2__aCeTY__09500-09600.trans.bz2\n",
      "http://www.exomol.com/db/C2H2/12C2-1H2/aCeTY/12C2-1H2__aCeTY__09600-09700.trans.bz2\n",
      "http://www.exomol.com/db/C2H2/12C2-1H2/aCeTY/12C2-1H2__aCeTY__09700-09800.trans.bz2\n",
      "http://www.exomol.com/db/C2H2/12C2-1H2/aCeTY/12C2-1H2__aCeTY__09800-09900.trans.bz2\n",
      "http://www.exomol.com/db/C2H2/12C2-1H2/aCeTY/12C2-1H2__aCeTY__09900-10000.trans.bz2\n"
     ]
    }
   ],
   "source": [
    "target_link = get_target_url()"
   ]
  },
  {
   "cell_type": "markdown",
   "metadata": {},
   "source": [
    "## Download Files\n",
    "\n",
    "We write all the download URLs into a text file, name it as $12C2-1H2__aCeTY_urls.txt$. \n",
    "\n",
    "In Linux, we use command \n",
    "\n",
    "```\n",
    "wget -r -i /.../save_path/.../download_urls.txt\n",
    "```\n",
    "\n",
    "Download states.bz2 files and trans.bz2 files with download links. Save these files into correspoding folders.\n"
   ]
  },
  {
   "cell_type": "code",
   "execution_count": 14,
   "metadata": {},
   "outputs": [
    {
     "data": {
      "text/plain": [
       "<function TextIOWrapper.close()>"
      ]
     },
     "execution_count": 14,
     "metadata": {},
     "output_type": "execute_result"
    }
   ],
   "source": [
    "url_path = './data/url/C2H2'\n",
    "\n",
    "if os.path.exists(url_path):\n",
    "    pass\n",
    "else:\n",
    "    os.makedirs(url_path, exist_ok=True)\n",
    "\n",
    "\n",
    "file = open('./data/url/C2H2/12C2-1H2__aCeTY_urls.txt', 'w')\n",
    "file.write('\\n'.join(target_link))\n",
    "file.close"
   ]
  },
  {
   "cell_type": "code",
   "execution_count": null,
   "metadata": {},
   "outputs": [],
   "source": []
  }
 ],
 "metadata": {
  "kernelspec": {
   "display_name": "Python 3",
   "language": "python",
   "name": "python3"
  },
  "language_info": {
   "codemirror_mode": {
    "name": "ipython",
    "version": 3
   },
   "file_extension": ".py",
   "mimetype": "text/x-python",
   "name": "python",
   "nbconvert_exporter": "python",
   "pygments_lexer": "ipython3",
   "version": "3.7.4"
  }
 },
 "nbformat": 4,
 "nbformat_minor": 2
}
