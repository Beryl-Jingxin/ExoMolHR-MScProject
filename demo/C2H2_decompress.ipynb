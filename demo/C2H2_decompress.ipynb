{
 "cells": [
  {
   "cell_type": "markdown",
   "metadata": {},
   "source": [
    "## Decompress bz2 File\n",
    "\n"
   ]
  },
  {
   "cell_type": "code",
   "execution_count": null,
   "metadata": {},
   "outputs": [],
   "source": [
    "import os\n",
    "import bz2"
   ]
  },
  {
   "cell_type": "code",
   "execution_count": null,
   "metadata": {},
   "outputs": [],
   "source": [
    "path = \"./data/www.exomol.com/db/C2H2\"\n",
    "\n",
    "# Make a folder for saving decompressed files.\n",
    "de_path = \"./data/decompress/C2H2\"\n",
    "if os.path.exists(de_path):\n",
    "    pass\n",
    "else:\n",
    "    os.makedirs(de_path, exist_ok=True)\n",
    "\n",
    "    \n",
    "for(dirpath,dirnames,files)in os.walk(path):\n",
    "    count = 0\n",
    "    for filename in files:\n",
    "        filepath = os.path.join(dirpath, filename)\n",
    "        de_filepath = os.path.join(de_path, filename.split('.')[0] + '_' + filename.split('.')[1] + '.inp')  \n",
    "        count += 1\n",
    "        print(count)\n",
    "        with open(de_filepath, 'wb') as de_file, bz2.BZ2File(filepath, 'rb') as file:\n",
    "            size = os.path.getsize(filepath)\n",
    "            if (size < (float(1024) * 100)): \n",
    "                for data in iter(lambda: file.read(50 * 1024), b''):\n",
    "                    de_file.write(data)\n",
    "            else:\n",
    "                for data in iter(lambda: file.read(100 * 1024), b''):\n",
    "                    de_file.write(data)\n",
    "\n",
    "                    \n",
    "print(\"Finished decompression\")\n"
   ]
  },
  {
   "cell_type": "markdown",
   "metadata": {},
   "source": []
  }
 ],
 "metadata": {
  "kernelspec": {
   "display_name": "Python 3",
   "language": "python",
   "name": "python3"
  },
  "language_info": {
   "codemirror_mode": {
    "name": "ipython",
    "version": 3
   },
   "file_extension": ".py",
   "mimetype": "text/x-python",
   "name": "python",
   "nbconvert_exporter": "python",
   "pygments_lexer": "ipython3",
   "version": "3.7.4"
  }
 },
 "nbformat": 4,
 "nbformat_minor": 2
}
