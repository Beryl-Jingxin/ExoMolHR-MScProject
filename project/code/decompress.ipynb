{
 "cells": [
  {
   "cell_type": "markdown",
   "metadata": {},
   "source": [
    "## Decompress bz2 File\n",
    "\n"
   ]
  },
  {
   "cell_type": "code",
   "execution_count": 5,
   "metadata": {},
   "outputs": [],
   "source": [
    "import os\n",
    "import bz2\n",
    "from tqdm import tqdm\n",
    "from tqdm import tqdm_notebook as tqdm_nb"
   ]
  },
  {
   "cell_type": "code",
   "execution_count": null,
   "metadata": {},
   "outputs": [],
   "source": []
  },
  {
   "cell_type": "code",
   "execution_count": 6,
   "metadata": {},
   "outputs": [
    {
     "name": "stdout",
     "output_type": "stream",
     "text": [
      "Molecule: ['AlH', 'C2H2', 'C2', 'H2O', 'H3O_p', 'TiO']\n",
      "Iso-slug: ['27Al-1H', '12C2-1H2', '12C2', '1H2-16O', '1H3-16O_p', '46Ti-16O', '47Ti-16O', '48Ti-16O', '49Ti-16O', '50Ti-16O']\n",
      "Isotopologue: ['AlHambra', 'aCeTY', '8states', 'POKAZATEL', 'eXeL', 'Toto']\n",
      "Total: ['AlH/27Al-1H/AlHambra', 'C2H2/12C2-1H2/aCeTY', 'C2/12C2/8states', 'H2O/1H2-16O/POKAZATEL', 'H3O_p/1H3-16O_p/eXeL', 'TiO/46Ti-16O/Toto', 'TiO/47Ti-16O/Toto', 'TiO/48Ti-16O/Toto', 'TiO/49Ti-16O/Toto', 'TiO/50Ti-16O/Toto']\n"
     ]
    }
   ],
   "source": [
    "molecule = []\n",
    "iso_slug = []\n",
    "isotopologue = []\n",
    "path_mol_iso = []\n",
    "for line in open('./data/url/api__urls.txt'):\n",
    "    molecule.append(line.split('/')[-4])\n",
    "    iso_slug.append(line.split('/')[-3])\n",
    "    isotopologue.append(line.split('/')[-2])\n",
    "    path_mol_iso.append(line.split('/')[-4] + '/' + line.split('/')[-3] + '/' + line.split('/')[-2])\n",
    "\n",
    "molecule_list = list(set(molecule))\n",
    "molecule_list.sort(key=molecule.index)\n",
    "\n",
    "iso_slug_list = list(set(iso_slug))\n",
    "iso_slug_list.sort(key=iso_slug.index)\n",
    "\n",
    "isotopologue_list = list(set(isotopologue))\n",
    "isotopologue_list.sort(key=isotopologue.index)\n",
    "\n",
    "path_mol_iso_list = list(set(path_mol_iso))\n",
    "path_mol_iso_list.sort(key=path_mol_iso.index)\n",
    "\n",
    "print('Molecule:', molecule_list)\n",
    "print('Iso-slug:', iso_slug_list)\n",
    "print('Isotopologue:', isotopologue_list)\n",
    "print('Total:', path_mol_iso_list)\n"
   ]
  },
  {
   "cell_type": "code",
   "execution_count": null,
   "metadata": {},
   "outputs": [],
   "source": []
  },
  {
   "cell_type": "code",
   "execution_count": null,
   "metadata": {},
   "outputs": [],
   "source": []
  },
  {
   "cell_type": "code",
   "execution_count": 17,
   "metadata": {},
   "outputs": [
    {
     "name": "stderr",
     "output_type": "stream",
     "text": [
      "100%|████████████████████████████████████████████████████████████████████████████████| 10/10 [00:00<00:00, 2506.16it/s]\n"
     ]
    },
    {
     "name": "stdout",
     "output_type": "stream",
     "text": [
      "Finished decompression!\n"
     ]
    }
   ],
   "source": [
    "for path_mol_iso in tqdm(path_mol_iso_list):\n",
    "    \n",
    "    path = './data/www.exomol.com/db/' + path_mol_iso\n",
    "\n",
    "    # Make a folder for saving decompressed files.\n",
    "    de_path = './data/decompress/' + path_mol_iso\n",
    "    if os.path.exists(de_path):\n",
    "        pass\n",
    "    else:\n",
    "        os.makedirs(de_path, exist_ok=True)\n",
    "\n",
    "\n",
    "    for(dirpath,dirnames,files)in os.walk(path):\n",
    "        count = 0\n",
    "        for filename in files:\n",
    "            filepath = os.path.join(dirpath, filename)\n",
    "            de_filepath = os.path.join(de_path, path_mol_iso.split('/')[0] + '__' + filename.split('.')[0] + '_' + filename.split('.')[1] + '.inp')        \n",
    "            count += 1\n",
    "            print(count) \n",
    "            \n",
    "            with open(de_filepath, 'wb') as de_file, bz2.BZ2File(filepath, 'rb') as file:\n",
    "                size = os.path.getsize(filepath)\n",
    "                if (size < (float(1024) * 100)): \n",
    "                    for data in iter(lambda: file.read(50 * 1024), b''):\n",
    "                        de_file.write(data)\n",
    "                else:\n",
    "                    for data in iter(lambda: file.read(100 * 1024), b''):\n",
    "                        de_file.write(data)\n",
    "\n",
    "\n",
    "print('Finished decompression!')\n"
   ]
  },
  {
   "cell_type": "code",
   "execution_count": null,
   "metadata": {},
   "outputs": [],
   "source": []
  }
 ],
 "metadata": {
  "kernelspec": {
   "display_name": "Python 3",
   "language": "python",
   "name": "python3"
  },
  "language_info": {
   "codemirror_mode": {
    "name": "ipython",
    "version": 3
   },
   "file_extension": ".py",
   "mimetype": "text/x-python",
   "name": "python",
   "nbconvert_exporter": "python",
   "pygments_lexer": "ipython3",
   "version": "3.7.4"
  }
 },
 "nbformat": 4,
 "nbformat_minor": 2
}
