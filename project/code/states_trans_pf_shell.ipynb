{
 "cells": [
  {
   "cell_type": "code",
   "execution_count": null,
   "metadata": {},
   "outputs": [],
   "source": [
    "import os\n",
    "import requests\n",
    "import pandas as pd\n",
    "from tqdm import tqdm\n",
    "from io import StringIO\n",
    "from tqdm import tqdm_notebook as tqdm_nb"
   ]
  },
  {
   "cell_type": "code",
   "execution_count": null,
   "metadata": {},
   "outputs": [],
   "source": []
  },
  {
   "cell_type": "code",
   "execution_count": null,
   "metadata": {},
   "outputs": [],
   "source": [
    "molecule = []\n",
    "iso_slug = []\n",
    "isotopologue = []\n",
    "path_mol_iso = []\n",
    "for line in open('./data/url/api__urls.txt'):\n",
    "    molecule.append(line.split('/')[-4])\n",
    "    iso_slug.append(line.split('/')[-3])\n",
    "    isotopologue.append(line.split('/')[-2])\n",
    "    path_mol_iso.append(line.split('/')[-4] + '/' + line.split('/')[-3] + '/' + line.split('/')[-2])\n",
    "\n",
    "molecule_list = list(set(molecule))\n",
    "molecule_list.sort(key=molecule.index)\n",
    "\n",
    "iso_slug_list = list(set(iso_slug))\n",
    "iso_slug_list.sort(key=iso_slug.index)\n",
    "\n",
    "isotopologue_list = list(set(isotopologue))\n",
    "isotopologue_list.sort(key=isotopologue.index)\n",
    "\n",
    "path_mol_iso_list = list(set(path_mol_iso))\n",
    "path_mol_iso_list.sort(key=path_mol_iso.index)\n",
    "\n",
    "print('Molecule:', molecule_list)\n",
    "print('Iso-slug:', iso_slug_list)\n",
    "print('Isotopologue:', isotopologue_list)\n",
    "print('Total:', path_mol_iso_list)\n"
   ]
  },
  {
   "cell_type": "code",
   "execution_count": null,
   "metadata": {},
   "outputs": [],
   "source": []
  },
  {
   "cell_type": "code",
   "execution_count": null,
   "metadata": {},
   "outputs": [],
   "source": []
  },
  {
   "cell_type": "code",
   "execution_count": null,
   "metadata": {},
   "outputs": [],
   "source": [
    "states_trans_pf_path = './data/states_trans_pf/'\n",
    "if os.path.exists(states_trans_pf_path):\n",
    "    pass\n",
    "else:\n",
    "    os.makedirs(states_trans_pf_path, exist_ok=True)\n",
    "\n",
    "\n",
    "states_shell = []\n",
    "trans_shell = []\n",
    "pf_col_name = ['T', 'Q']\n",
    "\n",
    "for path_mol_iso in tqdm(path_mol_iso_list):\n",
    "    \n",
    "    de_path = './data/decompress/' + path_mol_iso\n",
    "    \n",
    "    save_states_path = states_trans_pf_path + path_mol_iso.replace('/','__') + '_states.txt'\n",
    "    save_trans_path = states_trans_pf_path + path_mol_iso.replace('/','__') + '_trans.txt'\n",
    "    save_pf_path = states_trans_pf_path + path_mol_iso.replace('/','__') + '_pf.csv'\n",
    "    \n",
    "    states_shell.append('cat ' + de_path + '/*states.inp > ' + save_states_path  + ' \\n')\n",
    "    trans_shell.append('cat ' + de_path + '/*trans.inp > ' + save_trans_path  + ' \\n')\n",
    "\n",
    "    pf_url = ('http://www.exomol.com/db/' + path_mol_iso + '/'\n",
    "              + path_mol_iso.split('/')[1] + '__'\n",
    "              + path_mol_iso.split('/')[2] + '.pf')   \n",
    "    response = requests.get(pf_url)\n",
    "    content = response.text  \n",
    "    pf_data = pd.read_csv(StringIO(content), sep='\\s+', names=pf_col_name, header=None, engine='python')\n",
    "    pf_data.to_csv(save_pf_path, header=False)\n"
   ]
  },
  {
   "cell_type": "code",
   "execution_count": null,
   "metadata": {},
   "outputs": [],
   "source": []
  },
  {
   "cell_type": "code",
   "execution_count": null,
   "metadata": {},
   "outputs": [],
   "source": []
  },
  {
   "cell_type": "code",
   "execution_count": null,
   "metadata": {},
   "outputs": [],
   "source": [
    "with open('states_trans.sh', 'w') as file:\n",
    "    file.write('free -m \\n')\n",
    "    file.write('/bin/sync \\n')\n",
    "    file.write('/bin/echo 1 > /proc/sys/vm/drop_caches \\n')\n",
    "    file.write('free -m \\n')\n",
    "    for command in states_shell:\n",
    "        file.write(command)\n",
    "        \n",
    "    for command in trans_shell:\n",
    "        file.write(command)\n"
   ]
  }
 ],
 "metadata": {
  "kernelspec": {
   "display_name": "Python 3",
   "language": "python",
   "name": "python3"
  },
  "language_info": {
   "codemirror_mode": {
    "name": "ipython",
    "version": 3
   },
   "file_extension": ".py",
   "mimetype": "text/x-python",
   "name": "python",
   "nbconvert_exporter": "python",
   "pygments_lexer": "ipython3",
   "version": "3.7.4"
  }
 },
 "nbformat": 4,
 "nbformat_minor": 2
}
