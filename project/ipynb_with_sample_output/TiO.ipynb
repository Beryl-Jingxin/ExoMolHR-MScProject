{
 "cells": [
  {
   "cell_type": "code",
   "execution_count": null,
   "metadata": {},
   "outputs": [],
   "source": [
    "import os\n",
    "import math\n",
    "import glob\n",
    "import requests\n",
    "import numpy as np\n",
    "import pandas as pd\n",
    "#from tqdm import tqdm\n",
    "from io import StringIO\n",
    "from tqdm import tqdm_notebook as tqdm"
   ]
  },
  {
   "cell_type": "code",
   "execution_count": null,
   "metadata": {},
   "outputs": [],
   "source": []
  },
  {
   "cell_type": "code",
   "execution_count": null,
   "metadata": {},
   "outputs": [],
   "source": []
  },
  {
   "cell_type": "code",
   "execution_count": null,
   "metadata": {},
   "outputs": [],
   "source": [
    "molecule = []\n",
    "iso_slug = []\n",
    "isotopologue = []\n",
    "path_mol_iso = []\n",
    "for line in open('./data/url/api__urls.txt'):\n",
    "    molecule.append(line.split('/')[-4])\n",
    "    iso_slug.append(line.split('/')[-3])\n",
    "    isotopologue.append(line.split('/')[-2])\n",
    "    path_mol_iso.append(line.split('/')[-4] + '/' + line.split('/')[-3]\n",
    "                        + '/' + line.split('/')[-2])\n",
    "\n",
    "molecule_list = list(set(molecule))\n",
    "molecule_list.sort(key=molecule.index)\n",
    "\n",
    "iso_slug_list = list(set(iso_slug))\n",
    "iso_slug_list.sort(key=iso_slug.index)\n",
    "\n",
    "isotopologue_list = list(set(isotopologue))\n",
    "isotopologue_list.sort(key=isotopologue.index)\n",
    "\n",
    "path_mol_iso_list = list(set(path_mol_iso))\n",
    "path_mol_iso_list.sort(key=path_mol_iso.index)\n",
    "\n",
    "#print('Molecule:', molecule_list)\n",
    "#print('Iso-slug:', iso_slug_list)\n",
    "#print('Isotopologue:', isotopologue_list)\n",
    "print('Total:', path_mol_iso_list)\n"
   ]
  },
  {
   "cell_type": "code",
   "execution_count": null,
   "metadata": {},
   "outputs": [],
   "source": [
    "unc_formula = pd.DataFrame(eval(str(iso_slug_list).replace('1H','H')\n",
    "                                .replace('-','').replace('_p','+')))\n",
    "unc_formula.columns = ['exomol formula']\n",
    "unc_formula"
   ]
  },
  {
   "cell_type": "code",
   "execution_count": null,
   "metadata": {},
   "outputs": [],
   "source": []
  },
  {
   "cell_type": "code",
   "execution_count": null,
   "metadata": {},
   "outputs": [],
   "source": []
  },
  {
   "cell_type": "code",
   "execution_count": null,
   "metadata": {},
   "outputs": [],
   "source": [
    "path_mol_iso_list = ['TiO/46Ti-16O/Toto', 'TiO/47Ti-16O/Toto', 'TiO/48Ti-16O/Toto',\n",
    "                     'TiO/49Ti-16O/Toto', 'TiO/50Ti-16O/Toto']\n",
    "hitran_online = pd.DataFrame()\n",
    "hitran_online['molecule ID'] = ['53','53','53','53','53']\n",
    "hitran_online['isotopologue ID'] = ['1','2','3','4','5']\n",
    "hitran_online['exomol formula'] = ['46Ti16O','47Ti16O','48Ti16O','49Ti16O','50Ti16O']\n",
    "hitran_online['fractional abundance'] = ['1','1','1','1','1']\n",
    "#hitran_online\n"
   ]
  },
  {
   "cell_type": "markdown",
   "metadata": {},
   "source": [
    "# test column name"
   ]
  },
  {
   "cell_type": "code",
   "execution_count": null,
   "metadata": {},
   "outputs": [],
   "source": [
    "path_mol_iso = path_mol_iso_list[0]\n",
    "M_mol_iso = 'M of ' + path_mol_iso.replace('/','__')\n",
    "molecule_id = int(hitran_online['molecule ID'][0])\n",
    "isotopologue_id = int(hitran_online['isotopologue ID'][0])\n",
    "fractional_abundance = float(hitran_online['fractional abundance'][0])"
   ]
  },
  {
   "cell_type": "code",
   "execution_count": null,
   "metadata": {},
   "outputs": [],
   "source": []
  },
  {
   "cell_type": "code",
   "execution_count": null,
   "metadata": {},
   "outputs": [],
   "source": []
  },
  {
   "cell_type": "code",
   "execution_count": null,
   "metadata": {},
   "outputs": [],
   "source": [
    "path_mol_iso = path_mol_iso_list[0]\n",
    "def_path = glob.glob('./data/def/' + '*' + path_mol_iso.split('/')[1]\n",
    "                     + '__' + path_mol_iso.split('/')[2] + '.def')\n",
    "def_reader = pd.read_csv(def_path[0], sep='\\\\s+', names=['1','2','3','4','5'], header=None)\n",
    "list(def_reader[def_reader['4'].isin(['label'])]['1'].values)"
   ]
  },
  {
   "cell_type": "code",
   "execution_count": null,
   "metadata": {},
   "outputs": [],
   "source": [
    "states_col_name = (['ID','energy','g_tot','J_tot','Unc']\n",
    "                   + ['tau','g-fac','+/-','e/f','State','v',\n",
    "                      'Lambda','Sigma','Omega','Ecalc','d/m'])"
   ]
  },
  {
   "cell_type": "code",
   "execution_count": null,
   "metadata": {},
   "outputs": [],
   "source": []
  },
  {
   "cell_type": "code",
   "execution_count": null,
   "metadata": {},
   "outputs": [],
   "source": [
    "read_path = './data/www.exomol.com/db/'\n",
    "s_df = dict()\n",
    "states_df = pd.DataFrame()\n",
    "states_filenames = glob.glob(read_path + path_mol_iso + '/' + path_mol_iso.split('/')[1]\n",
    "                             + '__' + path_mol_iso.split('/')[2] + '.states.bz2')\n",
    "\n",
    "for states_filename in states_filenames:\n",
    "    s_df[states_filename] = pd.read_csv(states_filename, compression='bz2', sep='\\s+',\n",
    "                                        header=None, names=states_col_name,\n",
    "                                        chunksize=100_000_000, iterator=True,\n",
    "                                        low_memory=False)\n",
    "    for chunk in s_df[states_filename]:\n",
    "        states_df = states_df.append(chunk)\n",
    "        \n",
    "# Extract rows of states file whose uncertainty indices are small than 0.001.\n",
    "unc_states_df = states_df[states_df['Unc'] < float(0.001)]"
   ]
  },
  {
   "cell_type": "code",
   "execution_count": null,
   "metadata": {},
   "outputs": [],
   "source": [
    "unc_states_df"
   ]
  },
  {
   "cell_type": "code",
   "execution_count": null,
   "metadata": {},
   "outputs": [],
   "source": []
  },
  {
   "cell_type": "markdown",
   "metadata": {},
   "source": [
    "# Run"
   ]
  },
  {
   "cell_type": "code",
   "execution_count": null,
   "metadata": {},
   "outputs": [],
   "source": [
    "path_mol_iso_list = ['TiO/46Ti-16O/Toto', 'TiO/47Ti-16O/Toto', 'TiO/48Ti-16O/Toto',\n",
    "                     'TiO/49Ti-16O/Toto', 'TiO/50Ti-16O/Toto']\n",
    "hitran_online = pd.DataFrame()\n",
    "hitran_online['molecule ID'] = ['53','53','53','53','53']\n",
    "hitran_online['isotopologue ID'] = ['1','2','3','4','5']\n",
    "hitran_online['exomol formula'] = ['46Ti16O','47Ti16O','48Ti16O','49Ti16O','50Ti16O']\n",
    "hitran_online['fractional abundance'] = ['1','1','1','1','1']\n",
    "#hitran_online\n"
   ]
  },
  {
   "cell_type": "code",
   "execution_count": null,
   "metadata": {},
   "outputs": [],
   "source": []
  },
  {
   "cell_type": "code",
   "execution_count": null,
   "metadata": {},
   "outputs": [],
   "source": [
    "T = 296                      # Reference temperature k\n",
    "h = 6.62607015e-34           # Planck's const (J s)\n",
    "c = 299792458                # Velocity of light (m s-1)\n",
    "kB = 1.380649e-23            # Boltzmann's const (J K-1)\n",
    "\n",
    "c2 = h * c * 100 / kB                  # Second radiation constant (cm K)\n",
    "pi_c_8 = 1 / (8 * np.pi * c * 100)     # 8 * pi * c (cm-1 s)\n",
    "c2_T = c2 / T                          # c2 / T  (cm)\n"
   ]
  },
  {
   "cell_type": "code",
   "execution_count": null,
   "metadata": {},
   "outputs": [],
   "source": []
  },
  {
   "cell_type": "code",
   "execution_count": null,
   "metadata": {},
   "outputs": [],
   "source": []
  },
  {
   "cell_type": "code",
   "execution_count": null,
   "metadata": {},
   "outputs": [],
   "source": [
    "def extract_unc_trans(trans_df):\n",
    "    \"\"\"\n",
    "    \n",
    "    \n",
    "    \"\"\"\n",
    "    upper_id = trans_df['i'].values\n",
    "    lower_id = trans_df['f'].values\n",
    "    state_id = unc_states_df['ID'].values\n",
    "    \n",
    "    # Extract the same upper states ID from states_df\n",
    "    unc_trans_i_df = pd.DataFrame()\n",
    "    for id_1 in tqdm(state_id):\n",
    "        unc_trans_i_df = unc_trans_i_df.append(trans_df[trans_df['i'].isin([id_1])])\n",
    "        \n",
    "    # Extract the same lower states ID from states_df\n",
    "    unc_trans_df = pd.DataFrame()\n",
    "    for id_2 in tqdm(state_id):\n",
    "        unc_trans_df = unc_trans_df.append(unc_trans_i_df[unc_trans_i_df['f'].isin([id_2])])\n",
    "        \n",
    "    return unc_trans_df"
   ]
  },
  {
   "cell_type": "code",
   "execution_count": null,
   "metadata": {},
   "outputs": [],
   "source": []
  },
  {
   "cell_type": "code",
   "execution_count": null,
   "metadata": {},
   "outputs": [],
   "source": []
  },
  {
   "cell_type": "code",
   "execution_count": null,
   "metadata": {},
   "outputs": [],
   "source": [
    "def calculate_csv(unc_states_df, unc_trans_df):\n",
    "    \"\"\"\n",
    "    \n",
    "    \n",
    "    \"\"\"\n",
    "    unc_upper_id = unc_trans_df['i'].values\n",
    "    unc_lower_id = unc_trans_df['f'].values \n",
    "    state_id = unc_states_df['ID']\n",
    "    unc_trans_num = unc_trans_df['i'].count()\n",
    "\n",
    "    wavenumber = []                         # Vacuum wavenumber (cm−1)\n",
    "    intensity = pd.DataFrame()              # Intensities (cm-1/molecule cm-2) at standard 296K         \n",
    "    A_coefficient = []                      # Einstein A-coefficient\n",
    "    lower_state_energy = pd.DataFrame()     # lower state energy\n",
    "    uncertainty = []                        # Uncertainty indices\n",
    "    weight_upper_state = pd.DataFrame()     # Statistical weight of upper state\n",
    "    weight_lower_state = pd.DataFrame()     # Statistical weight of lower state\n",
    "    upper_global_quanta = []                # Upper-state 'global' quanta\n",
    "    lower_global_quanta = []                # Lower-state 'global' quanta\n",
    "    upper_local_quanta = []                 # Upper-state 'local' quanta\n",
    "    lower_local_quanta = []                 # Lower-state 'local' quanta\n",
    "\n",
    "\n",
    "    for i in tqdm(range(unc_trans_num)):\n",
    "        id_i = unc_upper_id[i]\n",
    "        id_f = unc_lower_id[i]\n",
    "        A = unc_trans_df['A_if'].values[i]                               # Einstein-A coefficient (s−1)\n",
    "        g_i = unc_states_df[state_id.isin([id_i])]['g_tot'].values       # Total degeneracy of upper state\n",
    "        g_f = unc_states_df[state_id.isin([id_f])]['g_tot'].values       # Total degeneracy of upper state\n",
    "        E_i = unc_states_df[state_id.isin([id_i])]['energy'].values      # Upper state energy\n",
    "        E_f = unc_states_df[state_id.isin([id_f])]['energy'].values      # Lower state energy\n",
    "        unc_i = unc_states_df[state_id.isin([id_i])]['Unc'].values       # Uncertainty indices of upper state\n",
    "        unc_f = unc_states_df[state_id.isin([id_f])]['Unc'].values       # Uncertainty indices of lower state\n",
    "        \n",
    "        u_State = unc_states_df[state_id.isin([id_i])]['State'].values[0]\n",
    "        u_v = unc_states_df[state_id.isin([id_i])]['v'].values[0]\n",
    "        u_Omega = unc_states_df[state_id.isin([id_i])]['Omega'].values[0]\n",
    "        u_J = unc_states_df[state_id.isin([id_i])]['J_tot'].values[0]\n",
    "        u_ef = unc_states_df[state_id.isin([id_i])]['e/f'].values[0]\n",
    "\n",
    "        l_State = unc_states_df[state_id.isin([id_f])]['State'].values[0]\n",
    "        l_v = unc_states_df[state_id.isin([id_f])]['v'].values[0]\n",
    "        l_Omega = unc_states_df[state_id.isin([id_f])]['Omega'].values[0]\n",
    "        l_J = unc_states_df[state_id.isin([id_f])]['J_tot'].values[0]\n",
    "        l_ef = unc_states_df[state_id.isin([id_f])]['e/f'].values[0]\n",
    "        \n",
    "        V_i = ('   %8s%2d%2d' % (u_State,u_v,u_Omega)) + ','             # Upper-state 'global' quanta\n",
    "        V_f = ('   %8s%2d%2d' % (l_State,l_v,l_Omega)) + ','             # Lower-state 'global' quanta\n",
    "        Q_i = ('          %3d%2s' % (u_J,u_ef)) + ','                    # Upper-state 'local' quanta\n",
    "        Q_f = ('          %3d%2s' % (l_J,l_ef)) + ','                    # Lower-state 'local' quanta\n",
    "\n",
    "        unc = math.sqrt(unc_i ** 2 + unc_f ** 2)                         # Uncertainty idices\n",
    "        v = float(abs(E_i - E_f))                                        # Vacuum wavenumber (cm−1)\n",
    "        S = g_i * A * np.exp(- c2_T * E_f) * (1 - np.exp(- c2_T * v)) * pi_c_8 / (v ** 2) / Q    # Intensities\n",
    "\n",
    "        wavenumber.append(v)\n",
    "        intensity = intensity.append(pd.DataFrame(S))\n",
    "        A_coefficient.append(A)\n",
    "        lower_state_energy = lower_state_energy.append(pd.DataFrame(E_f))\n",
    "        uncertainty.append(unc)\n",
    "        weight_upper_state = weight_upper_state.append(pd.DataFrame(g_i))\n",
    "        weight_lower_state = weight_lower_state.append(pd.DataFrame(g_f))\n",
    "        upper_global_quanta += V_i.split(',')\n",
    "        lower_global_quanta += V_f.split(',')\n",
    "        upper_local_quanta += Q_i.split(',')\n",
    "        lower_local_quanta += Q_f.split(',')\n",
    "    \n",
    "    iso_csv_df = pd.DataFrame()\n",
    "    iso_csv_df['v'] = wavenumber                       # Vacuum wavenumber (cm−1)\n",
    "    iso_csv_df['S'] = intensity.values                 # Intensities (cm-1/molecule cm-2) at standard 296K  \n",
    "    iso_csv_df['A'] = A_coefficient                    # Einstein A-coefficient\n",
    "    iso_csv_df['E_f'] = lower_state_energy.values      # Lower state energy\n",
    "    iso_csv_df['Ierr'] = uncertainty                   # Uncertainty indices\n",
    "    iso_csv_df['g_i'] = weight_upper_state.values      # Satistical weight of upper state\n",
    "    iso_csv_df['g_f'] = weight_lower_state.values      # Statistical weight of lower state\n",
    "    iso_csv_df[M_mol_iso] = molecule_id                # Molecule number\n",
    "    iso_csv_df['I'] = isotopologue_id                  # Isotopologue number\n",
    "    iso_csv_df['gm_a'] = np.nan                        # Air-broadened half-width\n",
    "    iso_csv_df['gm_s'] = np.nan                        # Self-broadened half-width\n",
    "    iso_csv_df['n_a'] = np.nan                         # Temperature-dependence exponent for gamma_air\n",
    "    iso_csv_df['dt_a'] = np.nan                        # Air pressure-induced line shift\n",
    "    iso_csv_df['V_i'] = list(filter(None, upper_global_quanta))            # Upper-state 'global' quanta\n",
    "    iso_csv_df['V_f'] = list(filter(None, lower_global_quanta))            # Lower-state 'global' quanta\n",
    "    iso_csv_df['Q_i'] = list(filter(None, upper_local_quanta))             # Upper-state 'local' quanta\n",
    "    iso_csv_df['Q_f'] = list(filter(None, lower_local_quanta))             # Lower-state 'local' quanta                  \n",
    "    iso_csv_df['Iref'] = np.nan                        # Reference indices\n",
    "    iso_csv_df['*'] = np.nan                           # Flag\n",
    "\n",
    "    return iso_csv_df\n",
    "    "
   ]
  },
  {
   "cell_type": "code",
   "execution_count": null,
   "metadata": {},
   "outputs": [],
   "source": []
  },
  {
   "cell_type": "code",
   "execution_count": null,
   "metadata": {},
   "outputs": [],
   "source": []
  },
  {
   "cell_type": "code",
   "execution_count": null,
   "metadata": {},
   "outputs": [],
   "source": [
    "read_path = './data/www.exomol.com/db/'\n",
    "\n",
    "# Create a folder for saving result files.\n",
    "# If the folder exists, save files directory,otherwise, create it.\n",
    "result_path = './data/result/'\n",
    "# Determine whether the folder exists or not.\n",
    "if os.path.exists(result_path):\n",
    "    pass\n",
    "else:\n",
    "    # Create the folder.\n",
    "    os.makedirs(result_path, exist_ok=True)"
   ]
  },
  {
   "cell_type": "code",
   "execution_count": null,
   "metadata": {},
   "outputs": [],
   "source": []
  },
  {
   "cell_type": "code",
   "execution_count": null,
   "metadata": {},
   "outputs": [],
   "source": [
    "states_col_name = (['ID','energy','g_tot','J_tot','Unc']\n",
    "                   + ['tau','g-fac','+/-','e/f','State','v',\n",
    "                      'Lambda','Sigma','Omega','Ecalc','d/m'])\n",
    "trans_col_name = ['i', 'f', 'A_if']\n",
    "pf_col_name = ['T', 'Q']\n",
    "\n",
    "mol_iso_num = len(path_mol_iso_list)\n",
    "for i in tqdm(range(mol_iso_num)):\n",
    "    path_mol_iso = path_mol_iso_list[i]\n",
    "    M_mol_iso = 'M of ' + path_mol_iso.replace('/','__')\n",
    "    molecule_id = int(hitran_online['molecule ID'][i])\n",
    "    isotopologue_id = int(hitran_online['isotopologue ID'][i])\n",
    "    fractional_abundance = float(hitran_online['fractional abundance'][i])\n",
    "\n",
    "    #pf_url = ('http://www.exomol.com/db/' + path_mol_iso + '/'\n",
    "    #          + path_mol_iso.split('/')[1] + '__'\n",
    "    #          + path_mol_iso.split('/')[2] + '.pf')   \n",
    "    #response = requests.get(pf_url)\n",
    "    #content = response.text  \n",
    "    #pf_data = pd.read_csv(StringIO(content), sep='\\s+', names=pf_col_name, header=None, engine='python')\n",
    "    pf_path = read_path + path_mol_iso + '/' + path_mol_iso.replace('/','__') + '_pf.csv'\n",
    "    #pf_data.to_csv(pf_path, header=False)\n",
    "    pf_df = pd.read_csv(pf_path, header=None, names=pf_col_name)\n",
    "    # Partition function defined as sum over states at standard 296K\n",
    "    Q = pf_df['Q'].values[296-1]\n",
    "        \n",
    "    s_df = dict()\n",
    "    states_df = pd.DataFrame()\n",
    "    states_filenames = glob.glob(read_path + path_mol_iso + '/' + '*states.bz2')\n",
    "    for states_filename in states_filenames:\n",
    "        s_df[states_filename] = pd.read_csv(states_filename, compression='bz2', sep='\\s+',\n",
    "                                            header=None, names=states_col_name, \n",
    "                                            chunksize=100_000_000, iterator=True,\n",
    "                                            low_memory=False)\n",
    "        for chunk in s_df[states_filename]:\n",
    "            states_df = states_df.append(chunk)\n",
    "\n",
    "    # Extract rows of states file whose uncertainty indices are small than 0.001.\n",
    "    unc_states_df = states_df[states_df['Unc'] < float(0.001)]\n",
    "    if len(unc_states_df) < 2:\n",
    "        continue\n",
    "    \n",
    "    t_df = dict()\n",
    "    species_csv_df = pd.DataFrame()\n",
    "    trans_filenames = glob.glob(read_path + path_mol_iso + '/' + '*trans.bz2')\n",
    "    for trans_filename in tqdm(trans_filenames):\n",
    "        t_df[trans_filename] = pd.read_csv(trans_filename, compression='bz2', sep='\\s+',\n",
    "                                           usecols=[0,1,2], header=None, names=trans_col_name,\n",
    "                                           chunksize=100_000_000, iterator=True, low_memory=False)\n",
    "        iso_csv_df = pd.DataFrame()\n",
    "        for trans_df in t_df[trans_filename]:\n",
    "            unc_trans_df = extract_unc_trans(trans_df)\n",
    "            if len(unc_trans_df) != 0:\n",
    "                iso_csv_df = calculate_csv(unc_states_df, unc_trans_df)\n",
    "            \n",
    "        species_csv_df = species_csv_df.append(iso_csv_df)\n",
    "\n",
    "    order = [M_mol_iso, 'I', 'v', 'S', 'A', 'gm_a', 'gm_s', 'E_f', 'n_a', 'dt_a',\n",
    "             'V_i', 'V_f', 'Q_i', 'Q_f', 'Ierr', 'Iref', '*', 'g_i', 'g_f']\n",
    "    species_csv_df = species_csv_df[order]\n",
    "    # Sort by increasing wavenumber\n",
    "    species_csv_df = species_csv_df.sort_values(['v'], ascending = True).reset_index(drop=True)\n",
    "\n",
    "    species_csv_df.to_csv(result_path + path_mol_iso.replace('/','__') + '.csv', header=True, index=False)   \n",
    "    "
   ]
  },
  {
   "cell_type": "code",
   "execution_count": null,
   "metadata": {},
   "outputs": [],
   "source": []
  },
  {
   "cell_type": "code",
   "execution_count": null,
   "metadata": {},
   "outputs": [],
   "source": []
  },
  {
   "cell_type": "code",
   "execution_count": null,
   "metadata": {},
   "outputs": [],
   "source": []
  }
 ],
 "metadata": {
  "kernelspec": {
   "display_name": "Python 3",
   "language": "python",
   "name": "python3"
  },
  "language_info": {
   "codemirror_mode": {
    "name": "ipython",
    "version": 3
   },
   "file_extension": ".py",
   "mimetype": "text/x-python",
   "name": "python",
   "nbconvert_exporter": "python",
   "pygments_lexer": "ipython3",
   "version": "3.7.4"
  }
 },
 "nbformat": 4,
 "nbformat_minor": 2
}
