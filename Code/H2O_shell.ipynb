{
 "cells": [
  {
   "cell_type": "code",
   "execution_count": 2,
   "metadata": {},
   "outputs": [],
   "source": [
    "import os "
   ]
  },
  {
   "cell_type": "code",
   "execution_count": 3,
   "metadata": {},
   "outputs": [],
   "source": [
    "url_filepath = \"./data/url/H2O/1H2-16O__POKAZATEL_urls.txt\"\n",
    "shell_path = \"./data/shell/H2O\"\n",
    "\n",
    "    \n",
    "if os.path.exists(shell_path):\n",
    "    pass\n",
    "else:\n",
    "    os.makedirs(shell_path, exist_ok=True)"
   ]
  },
  {
   "cell_type": "markdown",
   "metadata": {},
   "source": [
    "The link of states.file have one more / between db and H2O, so change the commands of states files in shell_H2O.txt.\n",
    "\n",
    "http://www.exomol.com/db//H2O/1H2-16O/POKAZATEL/1H2-16O__POKAZATEL.states.bz2\n",
    "\n",
    "http://www.exomol.com/db//H2O/1H2-16O/POKAZATEL/1H2-16O__POKAZATEL_v1.states.bz2"
   ]
  },
  {
   "cell_type": "code",
   "execution_count": 8,
   "metadata": {},
   "outputs": [
    {
     "name": "stdout",
     "output_type": "stream",
     "text": [
      "414\n",
      "Finished execute command!\n"
     ]
    }
   ],
   "source": [
    "with open(os.path.join(shell_path, 'shell_H2O.txt'), 'w') as txt_file:\n",
    "    count = 0\n",
    "    for line in open(url_filepath):\n",
    "        a = line.split('/')[7] \n",
    "        b = a.split('.')[0]\n",
    "        c = line.split('.')[3]\n",
    "        inp_filename = b + '_' + c + '.inp'\n",
    "        txt_filename = b + '_' + c + '.txt'\n",
    "        command = \"./xcross_linux_v3.x < ..//data//decompress//H2O//\" + str(inp_filename)+ \" > ..//data//result//H2O//\" + str(txt_filename) + \" \"\n",
    "        count += 1\n",
    "        txt_file.writelines(command + '\\n') \n",
    "                       \n",
    "print(count)\n",
    "print(\"Finished execute command!\")"
   ]
  },
  {
   "cell_type": "code",
   "execution_count": null,
   "metadata": {},
   "outputs": [],
   "source": []
  }
 ],
 "metadata": {
  "kernelspec": {
   "display_name": "Python 3",
   "language": "python",
   "name": "python3"
  },
  "language_info": {
   "codemirror_mode": {
    "name": "ipython",
    "version": 3
   },
   "file_extension": ".py",
   "mimetype": "text/x-python",
   "name": "python",
   "nbconvert_exporter": "python",
   "pygments_lexer": "ipython3",
   "version": "3.7.4"
  }
 },
 "nbformat": 4,
 "nbformat_minor": 2
}
