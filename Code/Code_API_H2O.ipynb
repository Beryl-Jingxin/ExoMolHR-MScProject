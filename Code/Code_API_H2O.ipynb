{
 "cells": [
  {
   "cell_type": "markdown",
   "metadata": {},
   "source": [
    "### Import all what we need"
   ]
  },
  {
   "cell_type": "code",
   "execution_count": 1,
   "metadata": {},
   "outputs": [],
   "source": [
    "import os\n",
    "import sys \n",
    "import bz2\n",
    "import json\n",
    "import requests\n",
    "from tqdm import tqdm_notebook as tqdm"
   ]
  },
  {
   "cell_type": "markdown",
   "metadata": {},
   "source": [
    "## Get Download Links\n",
    "\n",
    "Download files of molecule $H_2O$.\n",
    "\n",
    "Find all <font color=\"green\"> Iso-slugs </font> of <font color=\"skyblue\"> Molecule $H_2O$ </font>.\n",
    "\n",
    "<font color=\"green\"> Iso-slugs: \n",
    "    $\\sideset{_{}^{1}}{_{2}^{}}{H}{_{}^{17}}{_{}^{}}{O}$, \n",
    "    $\\sideset{_{}^{1}}{_{2}^{}}{H}{_{}^{18}}{_{}^{}}{O}$, \n",
    "    $\\sideset{_{}^{2}}{_{2}^{}}{H}{_{}^{16}}{_{}^{}}{O}$, \n",
    "    $\\sideset{_{}^{1}}{_{}^{}}{H}{_{}^{2}}{_{}^{}}{H}{_{}^{17}}{_{}^{}}{O}$, \n",
    "    $\\sideset{_{}^{1}}{_{}^{}}{H}{_{}^{2}}{_{}^{}}{H}{_{}^{18}}{_{}^{}}{O}$, \n",
    "    $\\sideset{_{}^{1}}{_{2}^{}}{H}{_{}^{16}}{_{}^{}}{O}$, \n",
    "    $\\sideset{_{}^{1}}{_{}^{}}{H}{_{}^{2}}{_{}^{}}{H}{_{}^{16}}{_{}^{}}{O}$ </font>"
   ]
  },
  {
   "cell_type": "code",
   "execution_count": 2,
   "metadata": {},
   "outputs": [
    {
     "name": "stdout",
     "output_type": "stream",
     "text": [
      "IsoFormula:  dict_keys(['(1H)2(17O)', '(1H)(2H)(18O)', '(1H)2(16O)', '(1H)(2H)(17O)', '(1H)(2H)(16O)', '(2H)2(16O)', '(1H)2(18O)'])\n"
     ]
    }
   ],
   "source": [
    "api_url = 'http://exomol.com/api/?molecule=H2O&datatype=linelist'\n",
    "response = requests.get(api_url)\n",
    "content = response.text  \n",
    "json_dict = json.loads(content)\n",
    "\n",
    "print('IsoFormula: ', json_dict.keys())"
   ]
  },
  {
   "cell_type": "markdown",
   "metadata": {},
   "source": [
    "Find all <font color=\"orange\"> Isotopologue dataset names </font> for each <font color=\"green\"> Iso-slug </font>.\n",
    "\n",
    "\n",
    "<font color=\"green\"> Iso-slug: $\\sideset{_{}^{1}}{_{2}^{}}{H}{_{}^{17}}{_{}^{}}{O}$ </font> $\\longrightarrow$ <font color=\"orange\"> Isotopologue: HotWat78 </font>\n",
    "\n",
    "<font color=\"green\"> Iso-slug: $\\sideset{_{}^{1}}{_{2}^{}}{H}{_{}^{18}}{_{}^{}}{O}$ </font> $\\longrightarrow$ <font color=\"orange\"> Isotopologue: HotWat78 </font>\n",
    "\n",
    "<font color=\"green\"> Iso-slug: $\\sideset{_{}^{2}}{_{2}^{}}{H}{_{}^{16}}{_{}^{}}{O}$ </font> $\\longrightarrow$ <font color=\"orange\"> Isotopologue </font> None\n",
    "\n",
    "<font color=\"green\"> Iso-slug: $\\sideset{_{}^{1}}{_{}^{}}{H}{_{}^{2}}{_{}^{}}{H}{_{}^{17}}{_{}^{}}{O}$ </font> $\\longrightarrow$ <font color=\"orange\"> Isotopologue </font> None\n",
    "\n",
    "<font color=\"green\"> Iso-slug: $\\sideset{_{}^{1}}{_{}^{}}{H}{_{}^{2}}{_{}^{}}{H}{_{}^{18}}{_{}^{}}{O}$ </font> $\\longrightarrow$ <font color=\"orange\"> Isotopologue </font> None\n",
    "\n",
    "<font color=\"green\"> Iso-slug: $\\sideset{_{}^{1}}{_{2}^{}}{H}{_{}^{16}}{_{}^{}}{O}$ </font> $\\longrightarrow$ <font color=\"orange\"> Isotopologue: BT2, CKYKKY, POKAZATEL </font>\n",
    "\n",
    "<font color=\"green\"> Iso-slug: $\\sideset{_{}^{1}}{_{}^{}}{H}{_{}^{2}}{_{}^{}}{H}{_{}^{16}}{_{}^{}}{O}$ </font> $\\longrightarrow$ <font color=\"orange\"> Isotopologue: Janka, VTT </font>\n",
    "    \n"
   ]
  },
  {
   "cell_type": "code",
   "execution_count": 3,
   "metadata": {},
   "outputs": [
    {
     "name": "stdout",
     "output_type": "stream",
     "text": [
      "Isotopologues for each IsoFormula:\n",
      "\n",
      "IsoFormula: (1H)2(17O)       Isotopologue dataset names:  dict_keys(['data type', 'HotWat78']) \n",
      "\n",
      "IsoFormula: (1H)2(18O)       Isotopologue dataset names:  dict_keys(['data type', 'HotWat78']) \n",
      "\n",
      "IsoFormula: (2H)2(16O)       Isotopologue dataset names:  dict_keys(['data type']) \n",
      "\n",
      "IsoFormula: (1H)(2H)(17O)    Isotopologue dataset names:  dict_keys(['data type']) \n",
      "\n",
      "IsoFormula: (1H)(2H)(18O)    Isotopologue dataset names:  dict_keys(['data type']) \n",
      "\n",
      "IsoFormula: (1H)2(16O)       Isotopologue dataset names:  dict_keys(['data type', 'BT2', 'CKYKKY', 'POKAZATEL']) \n",
      "\n",
      "IsoFormula: (1H)(2H)(16O)    Isotopologue dataset names:  dict_keys(['data type', 'Janka', 'VTT'])\n"
     ]
    }
   ],
   "source": [
    "print('Isotopologues for each IsoFormula:\\n')\n",
    "print('IsoFormula: (1H)2(17O)       Isotopologue dataset names: ', json_dict['(1H)2(17O)']['linelist'].keys(), '\\n')\n",
    "print('IsoFormula: (1H)2(18O)       Isotopologue dataset names: ', json_dict['(1H)2(18O)']['linelist'].keys(), '\\n')\n",
    "print('IsoFormula: (2H)2(16O)       Isotopologue dataset names: ', json_dict['(2H)2(16O)']['linelist'].keys(), '\\n')\n",
    "print('IsoFormula: (1H)(2H)(17O)    Isotopologue dataset names: ', json_dict['(1H)(2H)(17O)']['linelist'].keys(), '\\n')\n",
    "print('IsoFormula: (1H)(2H)(18O)    Isotopologue dataset names: ', json_dict['(1H)(2H)(18O)']['linelist'].keys(), '\\n')\n",
    "print('IsoFormula: (1H)2(16O)       Isotopologue dataset names: ', json_dict['(1H)2(16O)']['linelist'].keys(), '\\n')\n",
    "print('IsoFormula: (1H)(2H)(16O)    Isotopologue dataset names: ', json_dict['(1H)(2H)(16O)']['linelist'].keys())"
   ]
  },
  {
   "cell_type": "markdown",
   "metadata": {},
   "source": [
    "Take <font color=\"green\"> IsoFormula </font> and the corresponding <font color=\"orange\"> Isotopologue dataset names </font> into a list. "
   ]
  },
  {
   "cell_type": "code",
   "execution_count": null,
   "metadata": {},
   "outputs": [],
   "source": [
    "molecule = 'H2O'\n",
    "api_url = 'http://exomol.com/api/?molecule=H2O&datatype=linelist'\n",
    "\n",
    "\n",
    "iso = [('(1H)2(17O)', 'HotWat78'), ('(1H)2(18O)', 'HotWat78'),\n",
    "       ('(1H)2(16O)', 'BT2'), ('(1H)2(16O)', 'CKYKKY'),('(1H)2(16O)', 'POKAZATEL'),\n",
    "       ('(1H)(2H)(16O)', 'Janka'), ('(1H)(2H)(16O)', 'VTT')]\n"
   ]
  },
  {
   "cell_type": "markdown",
   "metadata": {},
   "source": [
    "Get the download links of states.bz2 files and trans.bz2 files from webset."
   ]
  },
  {
   "cell_type": "code",
   "execution_count": null,
   "metadata": {},
   "outputs": [],
   "source": [
    "def get_target_url():\n",
    "    \"\"\"\n",
    "    Get the download url from api.\n",
    "    \n",
    "    \"\"\"\n",
    "    \n",
    "    response = requests.get(api_url)\n",
    "    \n",
    "    if(response.status_code != 200):\n",
    "        print('ExoMol API Error' + str(response.status_code))\n",
    "        \n",
    "    # If the obtained status code is 200, it is correct.\n",
    "    else:\n",
    "        content = response.text            # Get the relevant content.\n",
    "        json_dict = json.loads(content)    # Convert json into dictionary.\n",
    "        \n",
    "        print(\"Download links:\")\n",
    "        \n",
    "        file_url = []\n",
    "        for i in range(len(iso)):\n",
    "            # Extract files information from dictionary and convert them into list\n",
    "            iso_formula = iso[i][0]\n",
    "            isotopologue = iso[i][1]\n",
    "            json_list = json_dict[iso_formula]['linelist'][isotopologue]['files']\n",
    "\n",
    "            for j in range(len(json_list)):\n",
    "                link = json_list[j].get('url')\n",
    "                try:\n",
    "                    if((link.endswith('states.bz2') or link.endswith('trans.bz2'))):\n",
    "                    #if((link.endswith('states.bz2'))):\n",
    "                        file_url.append(\"http://www.\" + link)\n",
    "                except KeyError:\n",
    "                    print('Keyerror, keep going!')\n",
    "                        \n",
    "        for k in file_url:\n",
    "            print(k)\n",
    "            \n",
    "        return file_url\n"
   ]
  },
  {
   "cell_type": "code",
   "execution_count": null,
   "metadata": {},
   "outputs": [],
   "source": [
    "target_link = get_target_url()"
   ]
  },
  {
   "cell_type": "markdown",
   "metadata": {},
   "source": [
    "## Download Files\n",
    "\n",
    "Download states.bz2 files and trans.bz2 files with download links. Save these files into correspoding folders which names by download links and file names."
   ]
  },
  {
   "cell_type": "code",
   "execution_count": null,
   "metadata": {},
   "outputs": [],
   "source": [
    "def download_target_series(file_url):\n",
    "    \n",
    "    failed_list = [] \n",
    "    for link in tqdm(file_url):\n",
    "        \n",
    "        file_name = link.split('/')[-1]                \n",
    "        print(\"Downloading file:%s\" % file_name)\n",
    "        print(link)\n",
    "\n",
    "        # Make folders for saving doanloaded files.\n",
    "        full_name = \"./data/\" + file_url[0].split('//')[-1]\n",
    "        dir_name = \"/\".join(full_name.split('/')[:-1])\n",
    "        if os.path.exists(dir_name):\n",
    "            pass\n",
    "        else:\n",
    "            os.makedirs(dir_name, exist_ok=True)\n",
    "        save_name = os.path.join(full_name)\n",
    "        \n",
    "        try:\n",
    "            r = requests.get(link, stream=True, verify=False)\n",
    "        except Exception:\n",
    "            failed_list.append(file_name.split('\\\\')[-1])\n",
    "            print(' download failed. Go to download next one\\n')\n",
    "              \n",
    "        # For compute the progess.\n",
    "        total_size = int(r.headers['Content-Length'])\n",
    "        temp_size = 0    \n",
    "   \n",
    "        # Download started.\n",
    "        with open(save_name, 'wb') as f:\n",
    "            for chunk in r.iter_content(chunk_size=1024 * 1024):\n",
    "                if chunk:\n",
    "                    temp_size += len(chunk)\n",
    "                    f.write(chunk)\n",
    "                    f.flush()\n",
    "                    done = int(50 * temp_size / total_size)\n",
    "                    sys.stdout.write(\"\\r[%s%s] %d%%\" % ('█' * done, ' ' * (50 - done), 100 * temp_size / total_size))\n",
    "                    sys.stdout.flush()\n",
    "        \n",
    "        \n",
    "        print(\" Downloaded!\\n\")\n",
    "\n",
    "    print(\"All files downloaded!\")\n",
    "\n",
    "    print(failed_list) # Record which file is failed to download.\n",
    "\n",
    "    return\n"
   ]
  },
  {
   "cell_type": "markdown",
   "metadata": {},
   "source": [
    "## Decompress bz2 Files"
   ]
  },
  {
   "cell_type": "code",
   "execution_count": null,
   "metadata": {},
   "outputs": [],
   "source": [
    "path = \"./data/www.exomol.com/db/H2O\"\n",
    "\n",
    "# Make a folder for saving decompressed files.\n",
    "de_path = \"./data/decompress/H2O\"\n",
    "if os.path.exists(de_path):\n",
    "    pass\n",
    "else:\n",
    "    os.makedirs(de_path, exist_ok=True)\n",
    "\n",
    "    \n",
    "for(dirpath,dirnames,files)in os.walk(path):\n",
    "    count = 0\n",
    "    for filename in files:\n",
    "        filepath = os.path.join(dirpath, filename)\n",
    "        de_filepath = os.path.join(de_path, filename.split('.')[0] + '_' + filename.split('.')[1] + '.inp') \n",
    "        count += 1\n",
    "        print(count)\n",
    "        with open(de_filepath, 'wb') as de_file, bz2.BZ2File(filepath, 'rb') as file:\n",
    "            size = os.path.getsize(filepath)\n",
    "            if (size < (float(1024) * 100)): \n",
    "                for data in iter(lambda: file.read(50 * 1024), b''):\n",
    "                    de_file.write(data)\n",
    "            else:\n",
    "                for data in iter(lambda: file.read(100 * 1024), b''):\n",
    "                    de_file.write(data)\n",
    "\n",
    "                    \n",
    "print(\"Finished decompression\")\n"
   ]
  },
  {
   "cell_type": "code",
   "execution_count": null,
   "metadata": {},
   "outputs": [],
   "source": []
  }
 ],
 "metadata": {
  "kernelspec": {
   "display_name": "Python 3",
   "language": "python",
   "name": "python3"
  },
  "language_info": {
   "codemirror_mode": {
    "name": "ipython",
    "version": 3
   },
   "file_extension": ".py",
   "mimetype": "text/x-python",
   "name": "python",
   "nbconvert_exporter": "python",
   "pygments_lexer": "ipython3",
   "version": "3.7.4"
  }
 },
 "nbformat": 4,
 "nbformat_minor": 2
}
