{
 "cells": [
  {
   "cell_type": "markdown",
   "metadata": {},
   "source": [
    "### Import all what we need"
   ]
  },
  {
   "cell_type": "code",
   "execution_count": null,
   "metadata": {},
   "outputs": [],
   "source": [
    "import os\n",
    "import sys  \n",
    "import requests\n",
    "from six.moves import urllib\n",
    "from bs4 import BeautifulSoup\n",
    "from tqdm import tqdm_notebook as tqdm"
   ]
  },
  {
   "cell_type": "markdown",
   "metadata": {},
   "source": [
    "## Get Download Links\n",
    "\n",
    "Download files of molecule C2H2."
   ]
  },
  {
   "cell_type": "code",
   "execution_count": null,
   "metadata": {},
   "outputs": [],
   "source": [
    "archive_url = \"http://www.exomol.com/data/molecules/C2H2/12C2-1H2/aCeTY/\""
   ]
  },
  {
   "cell_type": "markdown",
   "metadata": {},
   "source": [
    "Get the download links of states.bz2 files and trans.bz2 files from webset."
   ]
  },
  {
   "cell_type": "code",
   "execution_count": null,
   "metadata": {},
   "outputs": [],
   "source": [
    "def get_target_links():\n",
    "    r = requests.get(archive_url)\n",
    "    soup = BeautifulSoup(r.content, 'html5lib')\n",
    "    links = soup.findAll('a')\n",
    "    file_links = []\n",
    "    \n",
    "    #file_links = [archive_url + link['href'] for link in links if (link['href'].endswith('states.bz2') or link['href'].endswith('trans.bz2'))]\n",
    "    for link in links:\n",
    "        try:\n",
    "            if((link['href'].endswith('states.bz2') or link['href'].endswith('trans.bz2'))):\n",
    "            #if((link['href'].endswith('states.bz2'))):\n",
    "                file_links.append(\"http://www.exomol.com\" + link['href'])\n",
    "        except KeyError:\n",
    "            print('Keyerror, keep going!')\n",
    "    for i in file_links:\n",
    "        print(i, '\\n')\n",
    "    return file_links\n"
   ]
  },
  {
   "cell_type": "code",
   "execution_count": 37,
   "metadata": {},
   "outputs": [
    {
     "name": "stdout",
     "output_type": "stream",
     "text": [
      "Keyerror, keep going!\n",
      "Keyerror, keep going!\n",
      "Keyerror, keep going!\n",
      "http://www.exomol.com/db/C2H2/12C2-1H2/aCeTY/12C2-1H2__aCeTY.states.bz2 \n",
      "\n"
     ]
    }
   ],
   "source": [
    "target_links = get_target_links()"
   ]
  },
  {
   "cell_type": "markdown",
   "metadata": {},
   "source": [
    "## Download Files\n",
    "\n",
    "Download states.bz2 files and trans.bz2 files with download links. Save these files into correspoding folders which names by download links and file names."
   ]
  },
  {
   "cell_type": "code",
   "execution_count": null,
   "metadata": {},
   "outputs": [],
   "source": [
    "def download_target_series(file_links):\n",
    "    \n",
    "    failed_list = [] \n",
    "    for link in tqdm(file_links):\n",
    "        \n",
    "        file_name = link.split('/')[-1]                \n",
    "        print(\"Downloading file:%s\" % file_name)\n",
    "        print(link)\n",
    "\n",
    "        # Make folders for save doanloaded files.\n",
    "        full_name = \"./data/\" + archive_url.split('//')[-1]\n",
    "        dir_name = \"/\".join(full_name.split('/')[:-1])\n",
    "        if os.path.exists(dir_name):\n",
    "            pass\n",
    "        else:\n",
    "            os.makedirs(dir_name, exist_ok=True)\n",
    "        filename = os.path.join(full_name, file_name)\n",
    "        \n",
    "        try:\n",
    "            r = requests.get(link, stream=True, verify=False)\n",
    "        except Exception:\n",
    "            failed_list.append(file_name.split('\\\\')[-1])\n",
    "            print(' download failed. Go to download next one\\n')\n",
    "              \n",
    "        # For compute the progess.\n",
    "        total_size = int(r.headers['Content-Length'])\n",
    "        temp_size = 0    \n",
    "   \n",
    "        # Download started.\n",
    "        with open(filename, 'wb') as f:\n",
    "            for chunk in r.iter_content(chunk_size=1024 * 1024):\n",
    "                if chunk:\n",
    "                    temp_size += len(chunk)\n",
    "                    f.write(chunk)\n",
    "                    f.flush()\n",
    "                    done = int(50 * temp_size / total_size)\n",
    "                    sys.stdout.write(\"\\r[%s%s] %d%%\" % ('█' * done, ' ' * (50 - done), 100 * temp_size / total_size))\n",
    "                    sys.stdout.flush()\n",
    "        \n",
    "        \n",
    "        print(\" Downloaded!\\n\")\n",
    "\n",
    "    print(\"All files downloaded!\")\n",
    "\n",
    "    print(failed_list) # Record which file is failed to download.\n",
    "\n",
    "    return\n"
   ]
  },
  {
   "cell_type": "code",
   "execution_count": 13,
   "metadata": {},
   "outputs": [
    {
     "name": "stdout",
     "output_type": "stream",
     "text": [
      "Keyerror, keep going!\n",
      "Keyerror, keep going!\n",
      "Keyerror, keep going!\n",
      "http://www.exomol.com/db/C2H2/12C2-1H2/aCeTY/12C2-1H2__aCeTY.states.bz2 \n",
      "\n"
     ]
    },
    {
     "data": {
      "application/vnd.jupyter.widget-view+json": {
       "model_id": "772b5e6171e347cea2abc67caf704d27",
       "version_major": 2,
       "version_minor": 0
      },
      "text/plain": [
       "HBox(children=(IntProgress(value=0, max=1), HTML(value='')))"
      ]
     },
     "metadata": {},
     "output_type": "display_data"
    },
    {
     "name": "stdout",
     "output_type": "stream",
     "text": [
      "Downloading file:12C2-1H2__aCeTY.states.bz2\n",
      "http://www.exomol.com/db/C2H2/12C2-1H2/aCeTY/12C2-1H2__aCeTY.states.bz2\n",
      "[██████████████████████████████████████████████████] 100% Downloaded!\n",
      "\n",
      "\n",
      "All files downloaded!\n",
      "[]\n"
     ]
    }
   ],
   "source": [
    "download_target_series(target_links)"
   ]
  },
  {
   "cell_type": "markdown",
   "metadata": {},
   "source": [
    "## Decompress bz2 File"
   ]
  },
  {
   "cell_type": "code",
   "execution_count": 23,
   "metadata": {},
   "outputs": [
    {
     "name": "stdout",
     "output_type": "stream",
     "text": [
      "Finished decompression\n"
     ]
    }
   ],
   "source": [
    "path = \"./data/www.exomol.com/db/C2H2\"\n",
    "\n",
    "# Make a folder for saving decompressed files.\n",
    "de_path = \"./data/decompress/C2H2\"\n",
    "if os.path.exists(de_path):\n",
    "    pass\n",
    "else:\n",
    "    os.makedirs(de_path, exist_ok=True)\n",
    "\n",
    "    \n",
    "for(dirpath,dirnames,files)in os.walk(path):\n",
    "    count = 0\n",
    "    for filename in files:\n",
    "        filepath = os.path.join(dirpath, filename)\n",
    "        de_filepath = os.path.join(de_path, filename.split('.')[0] + '_' + filename.split('.')[1] + '.inp')  \n",
    "        count += 1\n",
    "        print(count)\n",
    "        with open(de_filepath, 'wb') as de_file, bz2.BZ2File(filepath, 'rb') as file:\n",
    "            size = os.path.getsize(filepath)\n",
    "            if (size < (float(1024) * 100)): \n",
    "                for data in iter(lambda: file.read(50 * 1024), b''):\n",
    "                    de_file.write(data)\n",
    "            else:\n",
    "                for data in iter(lambda: file.read(100 * 1024), b''):\n",
    "                    de_file.write(data)\n",
    "\n",
    "                    \n",
    "print(\"Finished decompression\")\n"
   ]
  },
  {
   "cell_type": "code",
   "execution_count": null,
   "metadata": {},
   "outputs": [],
   "source": []
  }
 ],
 "metadata": {
  "kernelspec": {
   "display_name": "Python 3",
   "language": "python",
   "name": "python3"
  },
  "language_info": {
   "codemirror_mode": {
    "name": "ipython",
    "version": 3
   },
   "file_extension": ".py",
   "mimetype": "text/x-python",
   "name": "python",
   "nbconvert_exporter": "python",
   "pygments_lexer": "ipython3",
   "version": "3.7.4"
  }
 },
 "nbformat": 4,
 "nbformat_minor": 2
}
