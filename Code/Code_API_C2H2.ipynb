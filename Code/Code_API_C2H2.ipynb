{
 "cells": [
  {
   "cell_type": "markdown",
   "metadata": {},
   "source": [
    "### Import all what we need"
   ]
  },
  {
   "cell_type": "code",
   "execution_count": 1,
   "metadata": {},
   "outputs": [],
   "source": [
    "import os\n",
    "import sys \n",
    "import bz2\n",
    "import json\n",
    "import requests\n",
    "from tqdm import tqdm_notebook as tqdm"
   ]
  },
  {
   "cell_type": "markdown",
   "metadata": {},
   "source": [
    "## Get Download Links\n",
    "\n",
    "Download files of <font color=\"skyblue\"> Molecule $C_2H_2$ </font>."
   ]
  },
  {
   "cell_type": "code",
   "execution_count": 2,
   "metadata": {},
   "outputs": [
    {
     "name": "stdout",
     "output_type": "stream",
     "text": [
      "Iso-slugs:  dict_keys(['(12C)2(1H)2', '(12C)(13C)(1H)2', '(12C)2(1H)(2H)'])\n"
     ]
    }
   ],
   "source": [
    "molecule = 'C2H2'\n",
    "api_url = 'http://exomol.com/api/?molecule=C2H2&datatype=linelist'\n",
    "response = requests.get(api_url)\n",
    "content = response.text  \n",
    "json_dict = json.loads(content)\n",
    "\n",
    "print('Iso-slugs: ', json_dict.keys())\n"
   ]
  },
  {
   "cell_type": "code",
   "execution_count": 3,
   "metadata": {},
   "outputs": [
    {
     "name": "stdout",
     "output_type": "stream",
     "text": [
      "Isotopologues for each IsoFormula:\n",
      "\n",
      "IsoFormula: (12C)2(1H)(2H)       Isotopologue dataset names:  dict_keys(['data type']) \n",
      "\n",
      "IsoFormula: (12C)(13C)(1H)2      Isotopologue dataset names:  dict_keys(['data type']) \n",
      "\n",
      "IsoFormula: (12C)2(1H)2          Isotopologue dataset names:  dict_keys(['data type', 'aCeTY']) \n",
      "\n"
     ]
    }
   ],
   "source": [
    "print('Isotopologues for each IsoFormula:\\n')\n",
    "print('IsoFormula: (12C)2(1H)(2H)       Isotopologue dataset names: ', json_dict['(12C)2(1H)(2H)']['linelist'].keys(), '\\n')\n",
    "print('IsoFormula: (12C)(13C)(1H)2      Isotopologue dataset names: ', json_dict['(12C)(13C)(1H)2']['linelist'].keys(), '\\n')\n",
    "print('IsoFormula: (12C)2(1H)2          Isotopologue dataset names: ', json_dict['(12C)2(1H)2']['linelist'].keys(), '\\n')"
   ]
  },
  {
   "cell_type": "markdown",
   "metadata": {},
   "source": [
    "Here we test our code with <font color=\"green\"> Iso-slug 12C2-1H2 </font> and <font color=\"orange\"> Isotopologue dataset name aCeTY </font>.\n",
    "\n",
    "http://exomol.com/db/C2H2/12C2-1H2/aCeTY/12C2-1H2__aCeTY.def"
   ]
  },
  {
   "cell_type": "code",
   "execution_count": 4,
   "metadata": {},
   "outputs": [],
   "source": [
    "iso = [('(12C)2(1H)2', 'aCeTY')]"
   ]
  },
  {
   "cell_type": "markdown",
   "metadata": {},
   "source": [
    "Get the download links of states.bz2 files and trans.bz2 files from webset."
   ]
  },
  {
   "cell_type": "code",
   "execution_count": 5,
   "metadata": {},
   "outputs": [],
   "source": [
    "def get_target_url():\n",
    "    \"\"\"\n",
    "    Get the download url from api.\n",
    "    \n",
    "    \"\"\"\n",
    "    \n",
    "    response = requests.get(api_url)\n",
    "    \n",
    "    if(response.status_code != 200):\n",
    "        print('ExoMol API Error' + str(response.status_code))\n",
    "        \n",
    "    # If the obtained status code is 200, it is correct.\n",
    "    else:\n",
    "        content = response.text            # Get the relevant content.\n",
    "        json_dict = json.loads(content)    # Convert json into dictionary.\n",
    "        \n",
    "        print(\"Download links:\")\n",
    "        \n",
    "        file_url = []\n",
    "        for i in range(len(iso)):\n",
    "            # Extract files information from dictionary and convert them into list\n",
    "            iso_slug = iso[i][0]\n",
    "            isotopologue = iso[i][1]\n",
    "            json_list = json_dict[iso_slug]['linelist'][isotopologue]['files']\n",
    "\n",
    "            for j in range(len(json_list)):\n",
    "                link = json_list[j].get('url')\n",
    "                try:\n",
    "                    if((link.endswith('states.bz2') or link.endswith('trans.bz2'))):\n",
    "                    #if((link.endswith('states.bz2'))):\n",
    "                        file_url.append(\"http://www.\" + link)\n",
    "                except KeyError:\n",
    "                    print('Keyerror, keep going!')\n",
    "                        \n",
    "        for k in file_url:\n",
    "            print(k)\n",
    "            \n",
    "        return file_url\n"
   ]
  },
  {
   "cell_type": "code",
   "execution_count": 6,
   "metadata": {},
   "outputs": [
    {
     "name": "stdout",
     "output_type": "stream",
     "text": [
      "Download links:\n",
      "http://www.exomol.com/db/C2H2/12C2-1H2/aCeTY/12C2-1H2__aCeTY.states.bz2\n"
     ]
    }
   ],
   "source": [
    "target_link = get_target_url()"
   ]
  },
  {
   "cell_type": "markdown",
   "metadata": {},
   "source": [
    "## Download Files\n",
    "\n",
    "Download states.bz2 files and trans.bz2 files with download links. Save these files into correspoding folders which names by download links and file names."
   ]
  },
  {
   "cell_type": "code",
   "execution_count": 7,
   "metadata": {},
   "outputs": [],
   "source": [
    "def download_target_series(file_url):\n",
    "    \n",
    "    failed_list = [] \n",
    "    for link in tqdm(file_url):\n",
    "        \n",
    "        file_name = link.split('/')[-1]                \n",
    "        print(\"Downloading file:%s\" % file_name)\n",
    "        print(link)\n",
    "\n",
    "        # Make folders for saving doanloaded files.\n",
    "        full_name = \"./data/\" + file_url[0].split('//')[-1]\n",
    "        dir_name = \"/\".join(full_name.split('/')[:-1])\n",
    "        if os.path.exists(dir_name):\n",
    "            pass\n",
    "        else:\n",
    "            os.makedirs(dir_name, exist_ok=True)\n",
    "        save_name = os.path.join(full_name)\n",
    "        \n",
    "        try:\n",
    "            r = requests.get(link, stream=True, verify=False)\n",
    "        except Exception:\n",
    "            failed_list.append(file_name.split('\\\\')[-1])\n",
    "            print(' download failed. Go to download next one\\n')\n",
    "              \n",
    "        # For compute the progess.\n",
    "        total_size = int(r.headers['Content-Length'])\n",
    "        temp_size = 0    \n",
    "   \n",
    "        # Download started.\n",
    "        with open(save_name, 'wb') as f:\n",
    "            for chunk in r.iter_content(chunk_size=1024 * 1024):\n",
    "                if chunk:\n",
    "                    temp_size += len(chunk)\n",
    "                    f.write(chunk)\n",
    "                    f.flush()\n",
    "                    done = int(50 * temp_size / total_size)\n",
    "                    sys.stdout.write(\"\\r[%s%s] %d%%\" % ('█' * done, ' ' * (50 - done), 100 * temp_size / total_size))\n",
    "                    sys.stdout.flush()\n",
    "        \n",
    "        \n",
    "        print(\" Downloaded!\\n\")\n",
    "\n",
    "    print(\"All files downloaded!\")\n",
    "\n",
    "    print(failed_list) # Record which file is failed to download.\n",
    "\n",
    "    return\n"
   ]
  },
  {
   "cell_type": "code",
   "execution_count": 8,
   "metadata": {},
   "outputs": [
    {
     "data": {
      "application/vnd.jupyter.widget-view+json": {
       "model_id": "4facbbface18417a86afff75fca286e2",
       "version_major": 2,
       "version_minor": 0
      },
      "text/plain": [
       "HBox(children=(IntProgress(value=0, max=1), HTML(value='')))"
      ]
     },
     "metadata": {},
     "output_type": "display_data"
    },
    {
     "name": "stdout",
     "output_type": "stream",
     "text": [
      "Downloading file:12C2-1H2__aCeTY.states.bz2\n",
      "http://www.exomol.com/db/C2H2/12C2-1H2/aCeTY/12C2-1H2__aCeTY.states.bz2\n",
      "[██████████████████████████████████████████████████] 100% Downloaded!\n",
      "\n",
      "\n",
      "All files downloaded!\n",
      "[]\n"
     ]
    }
   ],
   "source": [
    "download_target_series(target_link)"
   ]
  },
  {
   "cell_type": "markdown",
   "metadata": {},
   "source": [
    "## Decompress bz2 File"
   ]
  },
  {
   "cell_type": "code",
   "execution_count": null,
   "metadata": {},
   "outputs": [],
   "source": [
    "path = \"./data/www.exomol.com/db/C2H2\"\n",
    "\n",
    "# Make a folder for saving decompressed files.\n",
    "de_path = \"./data/decompress/C2H2\"\n",
    "if os.path.exists(de_path):\n",
    "    pass\n",
    "else:\n",
    "    os.makedirs(de_path, exist_ok=True)\n",
    "\n",
    "    \n",
    "for(dirpath,dirnames,files)in os.walk(path):\n",
    "    count = 0\n",
    "    for filename in files:\n",
    "        filepath = os.path.join(dirpath, filename)\n",
    "        de_filepath = os.path.join(de_path, filename.split('.')[0] + '_' + filename.split('.')[1] + '.inp')  \n",
    "        with open(de_filepath, 'wb') as de_file, bz2.BZ2File(filepath, 'rb') as file:\n",
    "            size = os.path.getsize(filepath)\n",
    "            if (size < (float(1024) * 100)): \n",
    "                for data in iter(lambda: file.read(50 * 1024), b''):\n",
    "                    de_file.write(data)\n",
    "            else:\n",
    "                for data in iter(lambda: file.read(100 * 1024), b''):\n",
    "                    de_file.write(data)\n",
    "        count += 1\n",
    "        print(count)\n",
    "                    \n",
    "print(\"Finished decompression\")\n"
   ]
  },
  {
   "cell_type": "code",
   "execution_count": null,
   "metadata": {},
   "outputs": [],
   "source": []
  }
 ],
 "metadata": {
  "kernelspec": {
   "display_name": "Python 3",
   "language": "python",
   "name": "python3"
  },
  "language_info": {
   "codemirror_mode": {
    "name": "ipython",
    "version": 3
   },
   "file_extension": ".py",
   "mimetype": "text/x-python",
   "name": "python",
   "nbconvert_exporter": "python",
   "pygments_lexer": "ipython3",
   "version": "3.7.4"
  }
 },
 "nbformat": 4,
 "nbformat_minor": 2
}
